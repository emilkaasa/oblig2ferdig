{
 "cells": [
  {
   "cell_type": "markdown",
   "id": "4931ed15",
   "metadata": {},
   "source": [
    "# Obligatorisk innlevering 2 - oppgave 1"
   ]
  },
  {
   "cell_type": "markdown",
   "id": "fbf1eda2",
   "metadata": {},
   "source": [
    "Denne oppgaven tar for seg et datasett fra Food Mart, som er ennærbutikkjede i USA. Food Mart har i dette datasettet samlet endel data i forbindelse med mediekampanjer. Din oppgave er å forutsi kostnadene for mediekampanjer i matvaremarkedet på grunnlag av funksjonene som tilbys."
   ]
  },
  {
   "cell_type": "code",
   "execution_count": 1,
   "id": "c5414fcb",
   "metadata": {},
   "outputs": [],
   "source": [
    "# Importer resten av pakkene du trenger her:\n",
    "import pandas as pd\n",
    "from sklearn.model_selection import train_test_split"
   ]
  },
  {
   "cell_type": "code",
   "execution_count": 2,
   "id": "6e533525",
   "metadata": {},
   "outputs": [],
   "source": [
    "# I denne oppgaven skal dere bruke følgende datasett:\n",
    "df = pd.read_csv(\"./datasett1.csv\")\n",
    "# Her deler jeg datasettet inn i egenskaper (X) og target (y)\n",
    "X = df.iloc[:,:-1]\n",
    "y = df.iloc[:,-1]\n",
    "# Tilslutt deler jeg inn i et trening- og et testsett (75%/25%)\n",
    "X_train, X_test, y_train, y_test = train_test_split(X,y,test_size=0.25, random_state=0)\n",
    "# PS: Ikke endre denne kodecellen!"
   ]
  },
  {
   "cell_type": "markdown",
   "id": "a9d11319",
   "metadata": {},
   "source": [
    "#### Oppgave 1.1) \n",
    "Visualiser $y\\_train$ og $y\\_val$ i et histogram. Kan du, basert på figuren, se hva slags problem vi skal løse (regresjon/klassifisering)? \n",
    "\n",
    "Begrunn svaret"
   ]
  },
  {
   "cell_type": "code",
   "execution_count": 3,
   "id": "73faf516",
   "metadata": {},
   "outputs": [],
   "source": [
    "#TODO: visualiser y_train og y_test i et histogram"
   ]
  },
  {
   "cell_type": "markdown",
   "id": "7731b3ad",
   "metadata": {},
   "source": [
    "**Svar:**\n",
    "\n",
    "*< ditt tekstsvar her >*"
   ]
  },
  {
   "cell_type": "markdown",
   "id": "3f5baefe",
   "metadata": {},
   "source": [
    "#### Oppgave 1.2) \n",
    "\n",
    "fullfør funksjonen under slik at den tar inn både egenskapene og target, legger disse sammen i samme matrise igjen og visualiser dataene som en korrelasjonsmatrise (poenget er at du skal kunne se hvordan egenskapene korrelerer med target).\n",
    "\n",
    "* Beskriv hvilke egenskaper du ser korrelerer mest med target"
   ]
  },
  {
   "cell_type": "code",
   "execution_count": 4,
   "id": "1433a6b2",
   "metadata": {},
   "outputs": [],
   "source": [
    "def korrelasjonsmatrise(X,y):\n",
    "    X_temp = X.copy()\n",
    "    y_temp = y.copy()\n",
    "    X_temp[\"Target\"] = y_temp\n",
    "    #TODO: Fullfør koden\n",
    "    ..."
   ]
  },
  {
   "cell_type": "code",
   "execution_count": 5,
   "id": "8eedaec8",
   "metadata": {},
   "outputs": [],
   "source": [
    "korrelasjonsmatrise(X_train,y_train)"
   ]
  },
  {
   "cell_type": "markdown",
   "id": "7a98fc1c",
   "metadata": {},
   "source": [
    "**Svar:**\n",
    "\n",
    "*< ditt tekstsvar her >*"
   ]
  },
  {
   "cell_type": "markdown",
   "id": "e2faadd2",
   "metadata": {},
   "source": [
    "#### Oppgave 1.3) \n",
    "Velg en modellarkitektur (gjerne fra Scikit-Learn) og gjør et strukturert hyperparametersøk. \n",
    "* Gjør et søk på minst 3 paramtere og minst 2 verdier pr parameter\n",
    "* Bruk 3-folds kryssvalidering for hver parameterkombinasjon\n",
    "* Velg en metrikk som passer for målet (tips: \"neg_mean_squared_error\" i sklearn) \n",
    "* Skriv ut den parameterkobinasjonen som ga den beste skåren, samt skåren. Kommenter resultatet"
   ]
  },
  {
   "cell_type": "code",
   "execution_count": 6,
   "id": "897cdc49",
   "metadata": {},
   "outputs": [],
   "source": [
    "#TODO: Utfør hyperparametersøk for en modell"
   ]
  },
  {
   "cell_type": "markdown",
   "id": "4bc6851e",
   "metadata": {},
   "source": [
    "**Svar:**\n",
    "\n",
    "*< ditt tekstsvar her >*"
   ]
  },
  {
   "cell_type": "markdown",
   "id": "552110b1",
   "metadata": {},
   "source": [
    "#### Oppgave 1.4) \n",
    "Bruk hyperparameterkombinasjonen fra oppgave 1.3 og kryssvalider den modellen på nytt med K >= 5 \n",
    "* Logg \"mean absolute error\" og \"mean squared error\" for hver kryssvalideringsrunde\n",
    "* Oppgi gjennomsnitt og standardavvik for \"mean absolute error\" og \"mean squared error\" etter kryssvalideringen og kommenter resultatet\n",
    "* Hvor stor er den gjennomsnittlige feilen på prediksjonen sammenlignet med gjennomsnittlig faktisk pris i treningsdataene? "
   ]
  },
  {
   "cell_type": "code",
   "execution_count": 7,
   "id": "7722a7cf",
   "metadata": {},
   "outputs": [],
   "source": [
    "#TODO: Utfør kryssvalidering med de optimale parameterene fra forrige oppgave og logg mean_absolute_error og mean_squared_error"
   ]
  },
  {
   "cell_type": "code",
   "execution_count": 8,
   "id": "b14620bf",
   "metadata": {},
   "outputs": [],
   "source": [
    "#TODO: Beregn gjennomsnitt og standard avvik for mean_absolute_error og mean_squared_error og beregn hvor stor den \n",
    "# gjennomsnittlige feilen er i forhold til den gjennomsnittlige prisen for markedskampanjen (target) i prosent"
   ]
  },
  {
   "cell_type": "markdown",
   "id": "16d13797",
   "metadata": {},
   "source": [
    "**Svar:**\n",
    "\n",
    "*< ditt tekstsvar her >*"
   ]
  },
  {
   "cell_type": "markdown",
   "id": "c1483c3b",
   "metadata": {},
   "source": [
    "#### Oppgave 1.5) \n",
    "Tren modellen en siste gang på alle treningsdataene og gjør prediksjon på testdataene (bruk de optimale parametrene fra oppgave 1.3)\n",
    "* Hvor stor er den gjennomsnittlige feilen på prediksjonen sammenlignet med gjennomsnittlig faktisk pris i testdataene? "
   ]
  },
  {
   "cell_type": "code",
   "execution_count": 9,
   "id": "b74348da",
   "metadata": {},
   "outputs": [],
   "source": [
    "#TODO: Tren modellen på alle treningsdata og utfør prediksjon på testdataene"
   ]
  },
  {
   "cell_type": "markdown",
   "id": "48746ed3",
   "metadata": {},
   "source": [
    "**Svar:**\n",
    "\n",
    "*< ditt tekstsvar her >*"
   ]
  }
 ],
 "metadata": {
  "kernelspec": {
   "display_name": "Python 3 (ipykernel)",
   "language": "python",
   "name": "python3"
  },
  "language_info": {
   "codemirror_mode": {
    "name": "ipython",
    "version": 3
   },
   "file_extension": ".py",
   "mimetype": "text/x-python",
   "name": "python",
   "nbconvert_exporter": "python",
   "pygments_lexer": "ipython3",
   "version": "3.8.5"
  }
 },
 "nbformat": 4,
 "nbformat_minor": 5
}
