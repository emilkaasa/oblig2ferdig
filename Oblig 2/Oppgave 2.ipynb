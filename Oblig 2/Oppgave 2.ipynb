{
 "cells": [
  {
   "cell_type": "markdown",
   "id": "bf1138c7",
   "metadata": {},
   "source": [
    "# Obligatorisk innlevering 2 - oppgave 2"
   ]
  },
  {
   "cell_type": "markdown",
   "id": "e8d8e9f7",
   "metadata": {},
   "source": [
    "I denne oppgaven skal vi forsøke å forutsi oppsigelser ved en arbeidsplass basert på en rekke variabler som f.eks alder, kjønn, utdannelse, lønn, osv."
   ]
  },
  {
   "cell_type": "code",
   "execution_count": 1,
   "id": "05baf6b1",
   "metadata": {},
   "outputs": [],
   "source": [
    "import pandas as pd\n",
    "from sklearn.model_selection import train_test_split"
   ]
  },
  {
   "cell_type": "code",
   "execution_count": 2,
   "id": "768f6d65",
   "metadata": {},
   "outputs": [],
   "source": [
    "# I denne oppgaven skal dere bruke følgende datasett:\n",
    "df = pd.read_csv(\"./datasett2.csv\")"
   ]
  },
  {
   "cell_type": "markdown",
   "id": "9aa8ce4d",
   "metadata": {},
   "source": [
    "### Preprosessering:\n",
    "For å forenkle håndteringen av kategoriske data har jeg her skrevet noe kode som gjør om strenger til intergers\n",
    "\n",
    "Følgende kolonner er formatert som *object* og inneholder kategoriske variabler i form av strenger"
   ]
  },
  {
   "cell_type": "code",
   "execution_count": 3,
   "id": "46c64c03",
   "metadata": {},
   "outputs": [
    {
     "name": "stdout",
     "output_type": "stream",
     "text": [
      "Index(['BusinessTravel', 'Department', 'EducationField', 'Gender', 'JobRole',\n",
      "       'MaritalStatus', 'Over18', 'OverTime'],\n",
      "      dtype='object')\n"
     ]
    }
   ],
   "source": [
    "kolonner_obj = df.select_dtypes(include=['object']).columns\n",
    "print(kolonner_obj)"
   ]
  },
  {
   "cell_type": "markdown",
   "id": "dc187ed1",
   "metadata": {},
   "source": [
    "I koden under omformer jeg strengene til integers og gir dere \"nøkkelen\" til å konvertere det tilbake igjen"
   ]
  },
  {
   "cell_type": "code",
   "execution_count": 4,
   "id": "81141f95",
   "metadata": {},
   "outputs": [
    {
     "name": "stdout",
     "output_type": "stream",
     "text": [
      "-----------\n",
      "BusinessTravel\n",
      "-----------\n",
      "Travel_Frequently = 0\n",
      "Travel_Rarely = 1\n",
      "Non-Travel = 2\n",
      "-----------\n",
      "Department\n",
      "-----------\n",
      "Research & Development = 0\n",
      "Sales = 1\n",
      "Human Resources = 2\n",
      "-----------\n",
      "EducationField\n",
      "-----------\n",
      "Medical = 0\n",
      "Other = 1\n",
      "Marketing = 2\n",
      "Life Sciences = 3\n",
      "Technical Degree = 4\n",
      "Human Resources = 5\n",
      "-----------\n",
      "Gender\n",
      "-----------\n",
      "Male = 0\n",
      "Female = 1\n",
      "-----------\n",
      "JobRole\n",
      "-----------\n",
      "Laboratory Technician = 0\n",
      "Sales Representative = 1\n",
      "Sales Executive = 2\n",
      "Healthcare Representative = 3\n",
      "Manager = 4\n",
      "Manufacturing Director = 5\n",
      "Research Scientist = 6\n",
      "Human Resources = 7\n",
      "Research Director = 8\n",
      "-----------\n",
      "MaritalStatus\n",
      "-----------\n",
      "Married = 0\n",
      "Divorced = 1\n",
      "Single = 2\n",
      "-----------\n",
      "Over18\n",
      "-----------\n",
      "Y = 0\n",
      "-----------\n",
      "OverTime\n",
      "-----------\n",
      "Yes = 0\n",
      "No = 1\n"
     ]
    },
    {
     "name": "stderr",
     "output_type": "stream",
     "text": [
      "C:\\Users\\Bjorn\\anaconda3\\lib\\site-packages\\pandas\\core\\indexing.py:1732: SettingWithCopyWarning: \n",
      "A value is trying to be set on a copy of a slice from a DataFrame\n",
      "\n",
      "See the caveats in the documentation: https://pandas.pydata.org/pandas-docs/stable/user_guide/indexing.html#returning-a-view-versus-a-copy\n",
      "  self._setitem_single_block(indexer, value, name)\n"
     ]
    }
   ],
   "source": [
    "for i in kolonner_obj:\n",
    "    print(\"-----------\")\n",
    "    print(i)\n",
    "    print(\"-----------\")\n",
    "    for num, j in enumerate(list(df[i].unique())):\n",
    "        print(\"{} = {}\".format(j,num))\n",
    "        df[i].loc[df[i]==j] = num\n",
    "    df[i] = pd.to_numeric(df[i])"
   ]
  },
  {
   "cell_type": "markdown",
   "id": "8005f086",
   "metadata": {},
   "source": [
    "I outputen fra koden nedenfor viser datatypen til de forskjellige kolonnene, som nå etter preprosesseringen bare består av integers (int64). "
   ]
  },
  {
   "cell_type": "code",
   "execution_count": 5,
   "id": "778b6336",
   "metadata": {},
   "outputs": [
    {
     "name": "stdout",
     "output_type": "stream",
     "text": [
      "id                          int64\n",
      "Age                         int64\n",
      "BusinessTravel              int64\n",
      "DailyRate                   int64\n",
      "Department                  int64\n",
      "DistanceFromHome            int64\n",
      "Education                   int64\n",
      "EducationField              int64\n",
      "EmployeeCount               int64\n",
      "EnvironmentSatisfaction     int64\n",
      "Gender                      int64\n",
      "HourlyRate                  int64\n",
      "JobInvolvement              int64\n",
      "JobLevel                    int64\n",
      "JobRole                     int64\n",
      "JobSatisfaction             int64\n",
      "MaritalStatus               int64\n",
      "MonthlyIncome               int64\n",
      "MonthlyRate                 int64\n",
      "NumCompaniesWorked          int64\n",
      "Over18                      int64\n",
      "OverTime                    int64\n",
      "PercentSalaryHike           int64\n",
      "PerformanceRating           int64\n",
      "RelationshipSatisfaction    int64\n",
      "StandardHours               int64\n",
      "StockOptionLevel            int64\n",
      "TotalWorkingYears           int64\n",
      "TrainingTimesLastYear       int64\n",
      "WorkLifeBalance             int64\n",
      "YearsAtCompany              int64\n",
      "YearsInCurrentRole          int64\n",
      "YearsSinceLastPromotion     int64\n",
      "YearsWithCurrManager        int64\n",
      "Attrition                   int64\n",
      "dtype: object\n"
     ]
    }
   ],
   "source": [
    "print(df.dtypes)"
   ]
  },
  {
   "cell_type": "code",
   "execution_count": 6,
   "id": "fddb6d19",
   "metadata": {},
   "outputs": [],
   "source": [
    "# Her deler jeg datasettet inn i egenskaper (X) og target (y) (fjerner også den første kolonnen siden det bare er en ID \n",
    "# og har dermed ingen prediktiv verdi)\n",
    "\n",
    "X = df.iloc[:,1:-1]\n",
    "y = df.iloc[:,-1]\n",
    "\n",
    "# Tilslutt deler jeg inn i et trening- og et testsett (75%/25%)\n",
    "\n",
    "X_train, X_test, y_train, y_test = train_test_split(X,y,test_size=0.25, random_state=0)\n",
    "\n",
    "# PS: Ikke endre denne kodecellen!"
   ]
  },
  {
   "cell_type": "markdown",
   "id": "4d571797",
   "metadata": {},
   "source": [
    "#### Oppgave 2.1) \n",
    "Visualiser $y\\_train$ og $y\\_val$ i et histogram. Kan du, basert på figuren, se hva slags problem vi skal løse (regresjon/klassifisering)? Begrunn svaret"
   ]
  },
  {
   "cell_type": "code",
   "execution_count": 7,
   "id": "f85a7509",
   "metadata": {},
   "outputs": [],
   "source": [
    "#TODO: visualiser y_train og y_test i et histogram"
   ]
  },
  {
   "cell_type": "markdown",
   "id": "15176882",
   "metadata": {},
   "source": [
    "**Svar:**\n",
    "\n",
    "*< ditt tekstsvar her >*"
   ]
  },
  {
   "cell_type": "markdown",
   "id": "dc4c9188",
   "metadata": {},
   "source": [
    "#### Oppgave 2.2)\n",
    "Velg to modeller og gjør repeterte kryssvalideringer $(10)$ med $K=5$\n",
    "* Velg hvorvidt du vil bruke \"default\" hyperparamtre for modellene eller om du vil gjøre et hyperparametersøk\n",
    "* Skår ytelsen til modellene ved hjelp av F1-score og accuracy\n",
    "* Visualiser F1-skårene fra de repeterte kryssvalideringene som et boksplot\n",
    "* Undersøk om modell 1 er bedre eller dårligere enn modell 2 ved å gjøre en to-sidig T-test på F1-skårene fra de repeterte kryssvalideringene \n",
    "* Tolk resultatene skriftlig til slutt \n"
   ]
  },
  {
   "cell_type": "code",
   "execution_count": 8,
   "id": "65335142",
   "metadata": {},
   "outputs": [],
   "source": [
    "#TODO: repeterte kryssvalideringer for to modeller"
   ]
  },
  {
   "cell_type": "markdown",
   "id": "6f46c56f",
   "metadata": {},
   "source": [
    "**Svar:**\n",
    "\n",
    "*< ditt tekstsvar her >*"
   ]
  },
  {
   "cell_type": "markdown",
   "id": "d2ff50c7",
   "metadata": {},
   "source": [
    "#### Oppgave 2.3) \n",
    "Tren de samme modellene men denne gangen med et balansert datasett\n",
    "* Bruk imbalaced learn og SMOTE til å oppsample minioritetsklassen (bare oppsample treningsdataene i kryssvalideringen - ikke valideringsdataene)\n",
    "* Skår ytelsen til modellene ved hjelp av F1-score og accuracy\n",
    "* Visualiser F1-skårene fra de repeterte kryssvalideringene som et boksplot\n",
    "* Undersøk om modell 1 er bedre eller dårligere enn modell 2 ved å gjøre en to-sidig T-test på F1-skårene fra de repeterte kryssvalideringene \n",
    "* Tolk resultatene og sammenlign resultatene med 2.2) "
   ]
  },
  {
   "cell_type": "code",
   "execution_count": 9,
   "id": "0c95e001",
   "metadata": {},
   "outputs": [],
   "source": [
    "#TODO: repeterte kryssvalideringer for de samme to modellene som i oppgave 2.2, men denne gangen med SMOTE-oppsampling \n",
    "#from imblearn.over_sampling import SMOTE"
   ]
  },
  {
   "cell_type": "markdown",
   "id": "08c962b2",
   "metadata": {},
   "source": [
    "**Svar:**\n",
    "\n",
    "*< ditt tekstsvar her >*"
   ]
  },
  {
   "cell_type": "markdown",
   "id": "1225c5f6",
   "metadata": {},
   "source": [
    "#### Oppgave 2.4)\n",
    "Tren den beste modellen på nytt og utfør prediksjon på testsettet. Mål nå ytelsen på testsettet ved bruk av sensitivitet, spesifisitet og presisjon, itillegg til F1-skår og accuracy"
   ]
  },
  {
   "cell_type": "code",
   "execution_count": 10,
   "id": "7510cbcd",
   "metadata": {},
   "outputs": [],
   "source": [
    "#TODO: Tren den beste modellen fra 2.2 og 2.3 på alle treningsdataene og test på testdataene"
   ]
  },
  {
   "cell_type": "markdown",
   "id": "52e749b6",
   "metadata": {},
   "source": [
    "#### Oppgave 2.5)\n",
    "Del opp testsettet basert på kjønn og gjør en analyse av sensitivitet, spesifisitet og presisjon for menn og det samme for kvinner. Skriv ut og diskuter resultatet og forsøk å svar på følgende spørsmål:\n",
    "* Er modellen like god for begge kjønn? \n",
    "* Hvis ikke, hva tror du er årsaken og hvilke tiltak kan vi gjøre for å forbedre modellen? "
   ]
  },
  {
   "cell_type": "code",
   "execution_count": 11,
   "id": "626d5b69",
   "metadata": {},
   "outputs": [],
   "source": [
    "#TODO: Gjør kjønnsbasert analyse på testdataene"
   ]
  },
  {
   "cell_type": "markdown",
   "id": "3a868ac7",
   "metadata": {},
   "source": [
    "Kjør denne cellen til slutt og legg ved den genererte requirements.txt fila i pull requestet"
   ]
  },
  {
   "cell_type": "code",
   "execution_count": 12,
   "id": "8e3ef598",
   "metadata": {},
   "outputs": [],
   "source": [
    "#!pip freeze > requirements.txt"
   ]
  }
 ],
 "metadata": {
  "kernelspec": {
   "display_name": "Python 3 (ipykernel)",
   "language": "python",
   "name": "python3"
  },
  "language_info": {
   "codemirror_mode": {
    "name": "ipython",
    "version": 3
   },
   "file_extension": ".py",
   "mimetype": "text/x-python",
   "name": "python",
   "nbconvert_exporter": "python",
   "pygments_lexer": "ipython3",
   "version": "3.8.5"
  }
 },
 "nbformat": 4,
 "nbformat_minor": 5
}
